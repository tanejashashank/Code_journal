{
 "cells": [
  {
   "cell_type": "markdown",
   "metadata": {},
   "source": [
    "## Window Functions\n",
    "---"
   ]
  },
  {
   "cell_type": "markdown",
   "metadata": {},
   "source": [
    "A window function performs a calculation across a set of table rows that are somehow related to the current row. This is comparable to the type of calculation that can be done with an aggregate function.\n",
    "But unlike regular aggregate functions, use of a window function does not cause rows to become grouped into a single output row — the rows retain their separate identities. \n",
    "Behind the scenes, the window function is able to access more than just the current row of the query result."
   ]
  },
  {
   "cell_type": "markdown",
   "metadata": {},
   "source": [
    "Example:\n",
    "To get avergae salary of a department along with the emoloyees' salaries:\n",
    "(To aggregate measures (continous variables) over categories from categorical variables)"
   ]
  },
  {
   "cell_type": "code",
   "execution_count": null,
   "metadata": {},
   "outputs": [],
   "source": [
    "SELECT depname\n",
    "        ,empno\n",
    "        ,salary\n",
    "        ,avg(salary) OVER (PARTITION BY depname) \n",
    "FROM empsalary;"
   ]
  },
  {
   "cell_type": "markdown",
   "metadata": {},
   "source": [
    "  depname  | empno | salary |          avg          \n",
    "-----------+-------+--------+-----------------------\n",
    " develop   |    11 |   5200 | 5020.0000000000000000\n",
    " develop   |     7 |   4200 | 5020.0000000000000000\n",
    " develop   |     9 |   4500 | 5020.0000000000000000\n",
    " develop   |     8 |   6000 | 5020.0000000000000000\n",
    " develop   |    10 |   5200 | 5020.0000000000000000\n",
    " personnel |     5 |   3500 | 3700.0000000000000000\n",
    " personnel |     2 |   3900 | 3700.0000000000000000\n",
    " sales     |     3 |   4800 | 4866.6666666666666667\n",
    " sales     |     1 |   5000 | 4866.6666666666666667\n",
    " sales     |     4 |   4800 | 4866.6666666666666667\n",
    "(10 rows)\n"
   ]
  },
  {
   "cell_type": "markdown",
   "metadata": {},
   "source": [
    "The fourth column represents an average taken across all the table rows that have the same depname value as the current row.\n",
    "(This actually is the same function as the regular avg aggregate function, \n",
    "but the `OVER` clause causes it to be treated as a window function and computed across an appropriate set of rows.) "
   ]
  },
  {
   "cell_type": "markdown",
   "metadata": {},
   "source": [
    "A window function call **always contains an `OVER` clause** directly following the window function's name and argument(s). This is what syntactically distinguishes it from a regular function or aggregate function. The OVER clause determines exactly how the rows of the query are split up for processing by the window function. **The `PARTITION BY` list within OVER specifies dividing the rows into groups, or partitions, that share the same values of the PARTITION BY expression(s).** For each row, the window function is computed across the rows that fall into the same partition as the current row."
   ]
  },
  {
   "cell_type": "markdown",
   "metadata": {},
   "source": [
    "---\n",
    "You can also control the order in which rows are processed by window functions using ORDER BY within OVER. (The window ORDER BY does not even have to match the order in which the rows are output.) Here is an example:"
   ]
  },
  {
   "cell_type": "code",
   "execution_count": null,
   "metadata": {},
   "outputs": [],
   "source": [
    "SELECT depname\n",
    "        ,empno\n",
    "        ,salary\n",
    "        ,rank() OVER (PARTITION BY depname ORDER BY salary DESC)\n",
    "        FROM empsalary;"
   ]
  },
  {
   "cell_type": "markdown",
   "metadata": {},
   "source": [
    "  depname  | empno | salary | rank \n",
    "-----------+-------+--------+------\n",
    " develop   |     8 |   6000 |    1\n",
    " develop   |    10 |   5200 |    2\n",
    " develop   |    11 |   5200 |    2\n",
    " develop   |     9 |   4500 |    4\n",
    " develop   |     7 |   4200 |    5\n",
    " personnel |     2 |   3900 |    1\n",
    " personnel |     5 |   3500 |    2\n",
    " sales     |     1 |   5000 |    1\n",
    " sales     |     4 |   4800 |    2\n",
    " sales     |     3 |   4800 |    2\n",
    "(10 rows)"
   ]
  },
  {
   "cell_type": "markdown",
   "metadata": {},
   "source": [
    "As shown here, the rank function produces a numerical rank within the current row's partition for each distinct ORDER BY value, in the order defined by the ORDER BY clause. rank needs no explicit parameter, because its behavior is entirely determined by the OVER clause."
   ]
  },
  {
   "cell_type": "markdown",
   "metadata": {},
   "source": [
    "**`The rows considered by a window function are those of the \"virtual table\" produced by the query's FROM clause as filtered by its WHERE, GROUP BY, and HAVING clauses if any. For example, a row removed because it does not meet the WHERE condition is not seen by any window function. A query can contain multiple window functions that slice up the data in different ways by means of different OVER clauses, but they all act on the same collection of rows defined by this virtual table.`**\n",
    "\n",
    "We already saw that ORDER BY can be omitted if the ordering of rows is not important. **It is also possible to omit PARTITION BY, in which case there is just one partition containing all the rows.**\n",
    "\n",
    "---"
   ]
  },
  {
   "cell_type": "markdown",
   "metadata": {},
   "source": [
    "There is another important concept associated with window functions: for each row, there is a set of rows within its partition called its `window frame`. Many (but not all) window functions act only on the rows of the window frame, rather than of the whole partition. **By default, if ORDER BY is supplied then the frame consists of all rows from the start of the partition up through the current row, plus any following rows that are equal to the current row according to the ORDER BY clause. When ORDER BY is omitted the default frame consists of all rows in the partition.**\n",
    "\n",
    "Here is an example using sum:"
   ]
  },
  {
   "cell_type": "code",
   "execution_count": null,
   "metadata": {},
   "outputs": [],
   "source": [
    "SELECT salary\n",
    "        ,sum(salary) OVER ()\n",
    "         FROM empsalary;"
   ]
  },
  {
   "cell_type": "markdown",
   "metadata": {},
   "source": [
    " salary |  sum  \n",
    "--------+-------\n",
    "   5200 | 47100\n",
    "   5000 | 47100\n",
    "   3500 | 47100\n",
    "   4800 | 47100\n",
    "   3900 | 47100\n",
    "   4200 | 47100\n",
    "   4500 | 47100\n",
    "   4800 | 47100\n",
    "   6000 | 47100\n",
    "   5200 | 47100\n",
    "(10 rows)"
   ]
  },
  {
   "cell_type": "markdown",
   "metadata": {},
   "source": [
    "Above, since there is no ORDER BY in the OVER clause, the window frame is the same as the partition, which for lack of PARTITION BY is the whole table; in other words each sum is taken over the whole table and so we get the same result for each output row. But if we add an ORDER BY clause, we get very different results:"
   ]
  },
  {
   "cell_type": "code",
   "execution_count": null,
   "metadata": {},
   "outputs": [],
   "source": [
    "SELECT salary\n",
    "        ,sum(salary) OVER (ORDER BY salary)\n",
    "        FROM empsalary;"
   ]
  },
  {
   "cell_type": "markdown",
   "metadata": {},
   "source": [
    " salary |  sum  \n",
    "--------+-------\n",
    "   3500 |  3500\n",
    "   3900 |  7400\n",
    "   4200 | 11600\n",
    "   4500 | 16100\n",
    "   4800 | 25700\n",
    "   4800 | 25700\n",
    "   5000 | 30700\n",
    "   5200 | 41100\n",
    "   5200 | 41100\n",
    "   6000 | 47100\n",
    "(10 rows)"
   ]
  },
  {
   "cell_type": "markdown",
   "metadata": {},
   "source": [
    "Here the sum is taken from the first (lowest) salary up through the current one, including any duplicates of the current one (notice the results for the duplicated salaries).\n",
    "\n",
    "**`Window functions are permitted only in the SELECT list and the ORDER BY clause of the query.`** They are forbidden elsewhere, such as in GROUP BY, HAVING and WHERE clauses. This is because they logically execute after the processing of those clauses. **`Also, window functions execute after regular aggregate functions. This means it is valid to include an aggregate function call in the arguments of a window function, but not vice versa.`**"
   ]
  },
  {
   "cell_type": "markdown",
   "metadata": {},
   "source": [
    "---\n",
    "\n",
    "If there is a need to filter or group rows after the window calculations are performed, you can use a sub-select. For example:"
   ]
  },
  {
   "cell_type": "code",
   "execution_count": null,
   "metadata": {},
   "outputs": [],
   "source": [
    "SELECT depname, empno, salary, enroll_date\n",
    "FROM\n",
    "  (SELECT depname, empno, salary, enroll_date,\n",
    "          rank() OVER (PARTITION BY depname ORDER BY salary DESC, empno) AS pos\n",
    "     FROM empsalary\n",
    "  ) AS ss\n",
    "WHERE pos < 3;"
   ]
  },
  {
   "cell_type": "markdown",
   "metadata": {},
   "source": [
    "The above query only shows the rows from the inner query having rank less than 3."
   ]
  },
  {
   "cell_type": "code",
   "execution_count": null,
   "metadata": {},
   "outputs": [],
   "source": [
    "SELECT sum(salary) OVER w\n",
    "            ,avg(salary) OVER w\n",
    "    FROM empsalary\n",
    "    WINDOW w AS (PARTITION BY depname ORDER BY salary DESC);"
   ]
  },
  {
   "cell_type": "markdown",
   "metadata": {},
   "source": [
    "Link: https://www.postgresql.org/docs/9.1/tutorial-window.html"
   ]
  }
 ],
 "metadata": {
  "kernelspec": {
   "display_name": "Python 3.7.3 64-bit ('base': conda)",
   "language": "python",
   "name": "python37364bitbaseconda47b5f1523ddd4bd6827f8a28ba885c36"
  },
  "language_info": {
   "codemirror_mode": {
    "name": "ipython",
    "version": 3
   },
   "file_extension": ".py",
   "mimetype": "text/x-python",
   "name": "python",
   "nbconvert_exporter": "python",
   "pygments_lexer": "ipython3",
   "version": "3.7.7"
  }
 },
 "nbformat": 4,
 "nbformat_minor": 4
}
