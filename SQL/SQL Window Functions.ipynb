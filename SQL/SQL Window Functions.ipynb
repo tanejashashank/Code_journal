{
 "cells": [
  {
   "cell_type": "markdown",
   "metadata": {},
   "source": [
    "## Window Functions\n",
    "---"
   ]
  },
  {
   "cell_type": "markdown",
   "metadata": {},
   "source": [
    "A window function performs a calculation across a set of table rows that are somehow related to the current row. This is comparable to the type of calculation that can be done with an aggregate function.\n",
    "But unlike regular aggregate functions, use of a window function does not cause rows to become grouped into a single output row — the rows retain their separate identities. \n",
    "Behind the scenes, the window function is able to access more than just the current row of the query result."
   ]
  },
  {
   "cell_type": "markdown",
   "metadata": {},
   "source": [
    "Example:\n",
    "To get avergae salary of a department along with the emoloyees' salaries:\n",
    "(To aggregate measures (continous variables) over categories from categorical variables)"
   ]
  },
  {
   "cell_type": "code",
   "execution_count": null,
   "metadata": {},
   "outputs": [],
   "source": [
    "SELECT depname\n",
    "        ,empno\n",
    "        ,salary\n",
    "        ,avg(salary) OVER (PARTITION BY depname) \n",
    "FROM empsalary;"
   ]
  },
  {
   "cell_type": "markdown",
   "metadata": {},
   "source": [
    "  depname  | empno | salary |          avg          \n",
    "-----------+-------+--------+-----------------------\n",
    " develop   |    11 |   5200 | 5020.0000000000000000\n",
    " develop   |     7 |   4200 | 5020.0000000000000000\n",
    " develop   |     9 |   4500 | 5020.0000000000000000\n",
    " develop   |     8 |   6000 | 5020.0000000000000000\n",
    " develop   |    10 |   5200 | 5020.0000000000000000\n",
    " personnel |     5 |   3500 | 3700.0000000000000000\n",
    " personnel |     2 |   3900 | 3700.0000000000000000\n",
    " sales     |     3 |   4800 | 4866.6666666666666667\n",
    " sales     |     1 |   5000 | 4866.6666666666666667\n",
    " sales     |     4 |   4800 | 4866.6666666666666667\n",
    "(10 rows)\n"
   ]
  },
  {
   "cell_type": "markdown",
   "metadata": {},
   "source": [
    "The fourth column represents an average taken across all the table rows that have the same depname value as the current row.\n",
    "(This actually is the same function as the regular avg aggregate function, \n",
    "but the `OVER` clause causes it to be treated as a window function and computed across an appropriate set of rows.) "
   ]
  },
  {
   "cell_type": "markdown",
   "metadata": {},
   "source": [
    "A window function call **always contains an `OVER` clause** directly following the window function's name and argument(s). This is what syntactically distinguishes it from a regular function or aggregate function. The OVER clause determines exactly how the rows of the query are split up for processing by the window function. **The `PARTITION BY` list within OVER specifies dividing the rows into groups, or partitions, that share the same values of the PARTITION BY expression(s).** For each row, the window function is computed across the rows that fall into the same partition as the current row."
   ]
  },
  {
   "cell_type": "markdown",
   "metadata": {},
   "source": [
    "---\n",
    "You can also control the order in which rows are processed by window functions using ORDER BY within OVER. (The window ORDER BY does not even have to match the order in which the rows are output.) Here is an example:"
   ]
  },
  {
   "cell_type": "code",
   "execution_count": null,
   "metadata": {},
   "outputs": [],
   "source": [
    "SELECT depname\n",
    "        ,empno\n",
    "        ,salary\n",
    "        ,rank() OVER (PARTITION BY depname ORDER BY salary DESC)\n",
    "        FROM empsalary;"
   ]
  },
  {
   "cell_type": "markdown",
   "metadata": {},
   "source": [
    "  depname  | empno | salary | rank \n",
    "-----------+-------+--------+------\n",
    " develop   |     8 |   6000 |    1\n",
    " develop   |    10 |   5200 |    2\n",
    " develop   |    11 |   5200 |    2\n",
    " develop   |     9 |   4500 |    4\n",
    " develop   |     7 |   4200 |    5\n",
    " personnel |     2 |   3900 |    1\n",
    " personnel |     5 |   3500 |    2\n",
    " sales     |     1 |   5000 |    1\n",
    " sales     |     4 |   4800 |    2\n",
    " sales     |     3 |   4800 |    2\n",
    "(10 rows)"
   ]
  },
  {
   "cell_type": "markdown",
   "metadata": {},
   "source": [
    "As shown here, the rank function produces a numerical rank within the current row's partition for each distinct ORDER BY value, in the order defined by the ORDER BY clause. rank needs no explicit parameter, because its behavior is entirely determined by the OVER clause."
   ]
  },
  {
   "cell_type": "markdown",
   "metadata": {},
   "source": [
    "**`The rows considered by a window function are those of the \"virtual table\" produced by the query's FROM clause as filtered by its WHERE, GROUP BY, and HAVING clauses if any. For example, a row removed because it does not meet the WHERE condition is not seen by any window function. A query can contain multiple window functions that slice up the data in different ways by means of different OVER clauses, but they all act on the same collection of rows defined by this virtual table.`**\n",
    "\n",
    "We already saw that ORDER BY can be omitted if the ordering of rows is not important. **It is also possible to omit PARTITION BY, in which case there is just one partition containing all the rows.**\n",
    "\n",
    "---"
   ]
  },
  {
   "cell_type": "markdown",
   "metadata": {},
   "source": [
    "There is another important concept associated with window functions: for each row, there is a set of rows within its partition called its `window frame`. Many (but not all) window functions act only on the rows of the window frame, rather than of the whole partition. **By default, if ORDER BY is supplied then the frame consists of all rows from the start of the partition up through the current row, plus any following rows that are equal to the current row according to the ORDER BY clause. When ORDER BY is omitted the default frame consists of all rows in the partition.**\n",
    "\n",
    "Here is an example using sum:"
   ]
  },
  {
   "cell_type": "code",
   "execution_count": null,
   "metadata": {},
   "outputs": [],
   "source": [
    "SELECT salary\n",
    "        ,sum(salary) OVER ()\n",
    "         FROM empsalary;"
   ]
  },
  {
   "cell_type": "markdown",
   "metadata": {},
   "source": [
    " salary |  sum  \n",
    "--------+-------\n",
    "   5200 | 47100\n",
    "   5000 | 47100\n",
    "   3500 | 47100\n",
    "   4800 | 47100\n",
    "   3900 | 47100\n",
    "   4200 | 47100\n",
    "   4500 | 47100\n",
    "   4800 | 47100\n",
    "   6000 | 47100\n",
    "   5200 | 47100\n",
    "(10 rows)"
   ]
  },
  {
   "cell_type": "markdown",
   "metadata": {},
   "source": [
    "Above, since there is no ORDER BY in the OVER clause, the window frame is the same as the partition, which for lack of PARTITION BY is the whole table; in other words each sum is taken over the whole table and so we get the same result for each output row. But if we add an ORDER BY clause, we get very different results:"
   ]
  },
  {
   "cell_type": "code",
   "execution_count": null,
   "metadata": {},
   "outputs": [],
   "source": [
    "SELECT salary\n",
    "        ,sum(salary) OVER (ORDER BY salary)\n",
    "        FROM empsalary;"
   ]
  },
  {
   "cell_type": "markdown",
   "metadata": {},
   "source": [
    " salary |  sum  \n",
    "--------+-------\n",
    "   3500 |  3500\n",
    "   3900 |  7400\n",
    "   4200 | 11600\n",
    "   4500 | 16100\n",
    "   4800 | 25700\n",
    "   4800 | 25700\n",
    "   5000 | 30700\n",
    "   5200 | 41100\n",
    "   5200 | 41100\n",
    "   6000 | 47100\n",
    "(10 rows)"
   ]
  },
  {
   "cell_type": "markdown",
   "metadata": {},
   "source": [
    "Here the sum is taken from the first (lowest) salary up through the current one, including any duplicates of the current one (notice the results for the duplicated salaries).\n",
    "\n",
    "**`Window functions are permitted only in the SELECT list and the ORDER BY clause of the query.`** They are forbidden elsewhere, such as in GROUP BY, HAVING and WHERE clauses. This is because they logically execute after the processing of those clauses. **`Also, window functions execute after regular aggregate functions. This means it is valid to include an aggregate function call in the arguments of a window function, but not vice versa.`**"
   ]
  },
  {
   "cell_type": "markdown",
   "metadata": {},
   "source": [
    "---\n",
    "\n",
    "If there is a need to filter or group rows after the window calculations are performed, you can use a sub-select. For example:"
   ]
  },
  {
   "cell_type": "code",
   "execution_count": null,
   "metadata": {},
   "outputs": [],
   "source": [
    "SELECT depname, empno, salary, enroll_date\n",
    "FROM\n",
    "  (SELECT depname, empno, salary, enroll_date,\n",
    "          rank() OVER (PARTITION BY depname ORDER BY salary DESC, empno) AS pos\n",
    "     FROM empsalary\n",
    "  ) AS ss\n",
    "WHERE pos < 3;"
   ]
  },
  {
   "cell_type": "markdown",
   "metadata": {},
   "source": [
    "The above query only shows the rows from the inner query having rank less than 3."
   ]
  },
  {
   "cell_type": "code",
   "execution_count": null,
   "metadata": {},
   "outputs": [],
   "source": [
    "SELECT sum(salary) OVER w\n",
    "            ,avg(salary) OVER w\n",
    "    FROM empsalary\n",
    "    WINDOW w AS (PARTITION BY depname ORDER BY salary DESC);"
   ]
  },
  {
   "cell_type": "markdown",
   "metadata": {},
   "source": [
    "Link: https://www.postgresql.org/docs/9.1/tutorial-window.html"
   ]
  },
  {
   "cell_type": "markdown",
   "metadata": {},
   "source": [
    "### ROW_NUMBER()"
   ]
  },
  {
   "cell_type": "markdown",
   "metadata": {},
   "source": [
    "**`ROW_NUMBER()`** does just what it sounds like—displays the number of a given row. It starts are 1 and numbers the rows according to the ORDER BY part of the window statement. ROW_NUMBER() does not require you to specify a variable within the parentheses:"
   ]
  },
  {
   "cell_type": "code",
   "execution_count": null,
   "metadata": {},
   "outputs": [],
   "source": [
    "SELECT start_terminal,\n",
    "       start_time,\n",
    "       duration_seconds,\n",
    "       ROW_NUMBER() OVER (ORDER BY start_time)\n",
    "                    AS row_number\n",
    "  FROM tutorial.dc_bikeshare_q1_2012\n",
    " WHERE start_time < '2012-01-08'"
   ]
  },
  {
   "cell_type": "markdown",
   "metadata": {},
   "source": [
    "start_terminal|     start_time    |duration_seconds|row_number\n",
    "         31245|2012-01-01 00:04:00|475             | 1\n",
    "         31400|2012-01-01 00:10:00|1162            | 2\n",
    "         31400|2012-01-01 00:10:00|1145            | 3\n",
    "         31101|2012-01-01 00:15:00|485             | 4\n",
    "         31102|2012-01-01 00:15:00|471             | 5\n",
    "         31017|2012-01-01 00:17:00|358             | 6\n",
    "         31236|2012-01-01 00:18:00|1754            | 7\n",
    "         31101|2012-01-01 00:22:00|259             | 8\n",
    "         31014|2012-01-01 00:24:00|516             | 9\n",
    "         31101|2012-01-01 00:25:00|913             | 10"
   ]
  },
  {
   "cell_type": "markdown",
   "metadata": {},
   "source": [
    "Using the `PARTITION BY` clause will allow you to begin counting 1 again in each partition. The following query starts the count over again for each terminal:"
   ]
  },
  {
   "cell_type": "code",
   "execution_count": null,
   "metadata": {},
   "outputs": [],
   "source": [
    "SELECT start_terminal,\n",
    "       start_time,\n",
    "       duration_seconds,\n",
    "       ROW_NUMBER() OVER (PARTITION BY start_terminal\n",
    "                          ORDER BY start_time)\n",
    "                    AS row_number\n",
    "  FROM tutorial.dc_bikeshare_q1_2012\n",
    " WHERE start_time < '2012-01-08'"
   ]
  },
  {
   "cell_type": "markdown",
   "metadata": {},
   "source": [
    "start_terminal\tstart_time\tduration_seconds\trow_number\n",
    "31000\t2012-01-01 15:32:00\t74\t1\n",
    "31000\t2012-01-02 12:40:00\t291\t2\n",
    "31000\t2012-01-02 19:15:00\t520\t3\n",
    "31000\t2012-01-03 07:22:00\t424\t4\n",
    "31000\t2012-01-03 07:22:00\t447\t5\n",
    "31001\t2012-01-03 12:32:00\t1422\t1\n",
    "31002\t2012-01-04 17:36:00\t348\t2\n",
    "31003\t2012-01-05 15:13:00\t277\t3\n",
    "31004\t2012-01-05 17:25:00\t3340\t4\n",
    "31005\t2012-01-06 07:28:00\t414\t5"
   ]
  },
  {
   "cell_type": "markdown",
   "metadata": {},
   "source": [
    "### RANK() and DENSE_RANK()"
   ]
  },
  {
   "cell_type": "markdown",
   "metadata": {},
   "source": [
    "**`RANK()`** is slightly different from `ROW_NUMBER()`. If you order by `start_time`, for example, it might be the case that some terminals have rides with two identical start times. In this case, they are given the same rank, whereas ROW_NUMBER() gives them different numbers. In the following query, you notice the 4th and 5th observations for start_terminal 31000—they are both given a rank of 4, and the following result receives a rank of 6:"
   ]
  },
  {
   "cell_type": "code",
   "execution_count": null,
   "metadata": {},
   "outputs": [],
   "source": [
    "SELECT start_terminal,\n",
    "       duration_seconds,\n",
    "       RANK() OVER (PARTITION BY start_terminal\n",
    "                    ORDER BY start_time)\n",
    "              AS rank\n",
    "  FROM tutorial.dc_bikeshare_q1_2012\n",
    " WHERE start_time < '2012-01-08'"
   ]
  },
  {
   "cell_type": "markdown",
   "metadata": {},
   "source": [
    "start_terminal\tduration_seconds\trank\n",
    "31000\t74\t1\n",
    "31000\t291\t2\n",
    "31000\t520\t3\n",
    "31000\t424\t4\n",
    "31000\t447\t4\n",
    "31000\t1422\t6\n",
    "31000\t348\t7\n",
    "31000\t277\t8\n",
    "31000\t3340\t9\n",
    "31000\t414\t10"
   ]
  },
  {
   "cell_type": "markdown",
   "metadata": {},
   "source": [
    "You can also use **`DENSE_RANK()`** instead of RANK() depending on your application. Imagine a situation in which three entries have the same value. Using either command, they will all get the same rank. For the sake of this example, let's say it's \"2.\" Here's how the two commands would evaluate the next results differently:\n",
    "\n",
    "* RANK() would give the identical rows a rank of 2, then skip ranks 3 and 4, so the next result would be 5\n",
    "* DENSE_RANK() would still give all the identical rows a rank of 2, but the following row would be 3—no ranks would be skipped.\n"
   ]
  },
  {
   "cell_type": "markdown",
   "metadata": {},
   "source": [
    "### NTILE"
   ]
  },
  {
   "cell_type": "markdown",
   "metadata": {},
   "source": [
    "You can use window functions to identify what percentile (or quartile, or any other subdivision) a given row falls into. The syntax is **`NTILE(*# of buckets*)`**. In this case, `ORDER BY` determines which column to use to determine the quartiles (or whatever number of 'tiles you specify). For example:"
   ]
  },
  {
   "cell_type": "code",
   "execution_count": null,
   "metadata": {},
   "outputs": [],
   "source": [
    "SELECT start_terminal,\n",
    "       duration_seconds,\n",
    "       NTILE(4) OVER\n",
    "         (PARTITION BY start_terminal ORDER BY duration_seconds)\n",
    "          AS quartile,\n",
    "       NTILE(5) OVER\n",
    "         (PARTITION BY start_terminal ORDER BY duration_seconds)\n",
    "         AS quintile,\n",
    "       NTILE(100) OVER\n",
    "         (PARTITION BY start_terminal ORDER BY duration_seconds)\n",
    "         AS percentile\n",
    "  FROM tutorial.dc_bikeshare_q1_2012\n",
    " WHERE start_time < '2012-01-08'\n",
    " ORDER BY start_terminal, duration_seconds"
   ]
  },
  {
   "cell_type": "markdown",
   "metadata": {},
   "source": [
    "### LAG and LEAD"
   ]
  },
  {
   "cell_type": "markdown",
   "metadata": {},
   "source": [
    "It can often be useful to compare rows to preceding or following rows, especially if you've got the data in an order that makes sense. You can use `LAG` or `LEAD` to create columns that pull values from other rows—all you need to do is enter which column to pull from and how many rows away you'd like to do the pull. LAG pulls from previous rows and LEAD pulls from following rows:"
   ]
  },
  {
   "cell_type": "code",
   "execution_count": null,
   "metadata": {},
   "outputs": [],
   "source": [
    "SELECT start_terminal,\n",
    "       duration_seconds,\n",
    "       LAG(duration_seconds, 1) OVER\n",
    "         (PARTITION BY start_terminal ORDER BY duration_seconds) AS lag,\n",
    "       LEAD(duration_seconds, 1) OVER\n",
    "         (PARTITION BY start_terminal ORDER BY duration_seconds) AS lead\n",
    "  FROM tutorial.dc_bikeshare_q1_2012\n",
    " WHERE start_time < '2012-01-08'\n",
    " ORDER BY start_terminal, duration_seconds"
   ]
  },
  {
   "cell_type": "markdown",
   "metadata": {},
   "source": [
    "start_terminal\tduration_seconds\tlag\tlead\n",
    "31000\t74\t\t277\n",
    "31000\t277\t74\t291\n",
    "31000\t291\t277\t348\n",
    "31000\t348\t291\t387\n",
    "31000\t387\t348\t393\n",
    "31000\t393\t387\t398\n",
    "31000\t398\t393\t399\n",
    "31000\t399\t398\t412\n",
    "31000\t412\t399\t414\n",
    "31000\t414\t412\t424"
   ]
  },
  {
   "cell_type": "markdown",
   "metadata": {},
   "source": [
    "This is especially useful if you want to calculate differences between rows:"
   ]
  },
  {
   "cell_type": "code",
   "execution_count": null,
   "metadata": {},
   "outputs": [],
   "source": [
    "SELECT start_terminal,\n",
    "       duration_seconds,\n",
    "       duration_seconds -LAG(duration_seconds, 1) OVER\n",
    "         (PARTITION BY start_terminal ORDER BY duration_seconds)\n",
    "         AS difference\n",
    "  FROM tutorial.dc_bikeshare_q1_2012\n",
    " WHERE start_time < '2012-01-08'\n",
    " ORDER BY start_terminal, duration_seconds"
   ]
  },
  {
   "cell_type": "markdown",
   "metadata": {},
   "source": [
    "start_terminal\tduration_seconds\tdifference\n",
    "31000\t74\t\n",
    "31000\t277\t203\n",
    "31000\t291\t14\n",
    "31000\t348\t57\n",
    "31000\t387\t39\n",
    "31000\t393\t6\n",
    "31000\t398\t5\n",
    "31000\t399\t1\n",
    "31000\t412\t13\n",
    "31000\t414\t2"
   ]
  },
  {
   "cell_type": "markdown",
   "metadata": {},
   "source": [
    "The first row of the `difference` column is null because there is no previous row from which to pull. Similarly, using `LEAD` will create nulls at the end of the dataset. If you'd like to make the results a bit cleaner, you can wrap it in an outer query to remove nulls:"
   ]
  },
  {
   "cell_type": "code",
   "execution_count": null,
   "metadata": {},
   "outputs": [],
   "source": [
    "SELECT *\n",
    "  FROM (\n",
    "    SELECT start_terminal,\n",
    "           duration_seconds,\n",
    "           duration_seconds -LAG(duration_seconds, 1) OVER\n",
    "             (PARTITION BY start_terminal ORDER BY duration_seconds)\n",
    "             AS difference\n",
    "      FROM tutorial.dc_bikeshare_q1_2012\n",
    "     WHERE start_time < '2012-01-08'\n",
    "     ORDER BY start_terminal, duration_seconds\n",
    "       ) sub\n",
    " WHERE sub.difference IS NOT NULL"
   ]
  },
  {
   "cell_type": "markdown",
   "metadata": {},
   "source": [
    "start_terminal\tduration_seconds\tdifference\n",
    "31000\t277\t203\n",
    "31000\t291\t14\n",
    "31000\t348\t57\n",
    "31000\t387\t39\n",
    "31000\t393\t6\n",
    "31000\t398\t5\n",
    "31000\t399\t1\n",
    "31000\t412\t13\n",
    "31000\t414\t2\n",
    "31000\t424\t10"
   ]
  },
  {
   "cell_type": "markdown",
   "metadata": {},
   "source": [
    "Source: https://mode.com/sql-tutorial/sql-window-functions/"
   ]
  }
 ],
 "metadata": {
  "kernelspec": {
   "display_name": "Python 3.7.3 64-bit ('base': conda)",
   "language": "python",
   "name": "python37364bitbaseconda47b5f1523ddd4bd6827f8a28ba885c36"
  },
  "language_info": {
   "codemirror_mode": {
    "name": "ipython",
    "version": 3
   },
   "file_extension": ".py",
   "mimetype": "text/x-python",
   "name": "python",
   "nbconvert_exporter": "python",
   "pygments_lexer": "ipython3",
   "version": "3.7.7"
  }
 },
 "nbformat": 4,
 "nbformat_minor": 4
}
